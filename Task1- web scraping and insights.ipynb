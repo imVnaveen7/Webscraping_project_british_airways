{
 "cells": [
  {
   "cell_type": "code",
   "execution_count": 7,
   "id": "067ab0ad",
   "metadata": {},
   "outputs": [],
   "source": [
    "#import important dependencies\n",
    "import requests\n",
    "from bs4 import BeautifulSoup\n",
    "import pandas as pd"
   ]
  },
  {
   "cell_type": "code",
   "execution_count": 12,
   "id": "00e47bd9",
   "metadata": {},
   "outputs": [
    {
     "name": "stdout",
     "output_type": "stream",
     "text": [
      "scraping page1\n",
      "----->   100   total reviews\n",
      "scraping page2\n",
      "----->   200   total reviews\n",
      "scraping page3\n",
      "----->   300   total reviews\n",
      "scraping page4\n",
      "----->   400   total reviews\n",
      "scraping page5\n",
      "----->   500   total reviews\n",
      "scraping page6\n",
      "----->   600   total reviews\n",
      "scraping page7\n",
      "----->   700   total reviews\n",
      "scraping page8\n",
      "----->   800   total reviews\n",
      "scraping page9\n",
      "----->   900   total reviews\n",
      "scraping page10\n",
      "----->   1000   total reviews\n",
      "scraping page11\n",
      "----->   1100   total reviews\n",
      "scraping page12\n",
      "----->   1200   total reviews\n"
     ]
    }
   ],
   "source": [
    "web_url=\"https://www.airlinequality.com/airline-reviews/british-airways\"\n",
    "pages=12\n",
    "page_size=100\n",
    "reviews=[]\n",
    "\n",
    "for i in range(1,pages+1):\n",
    "    \n",
    "    print(f\"scraping page{i}\")\n",
    "    \n",
    "    #creating the url\n",
    "    url=f\"{web_url}/page/{i}/?sortby=post_date%3ADesc&pagesize={page_size}\"\n",
    "    \n",
    "    #collecting the html data from this url\n",
    "    response=requests.get(url)\n",
    "    \n",
    "    #parse content\n",
    "    content=response.content\n",
    "    parsed_content=BeautifulSoup(content,'html.parser')\n",
    "    for para in parsed_content.find_all(\"div\", {\"class\": \"text_content\"}):\n",
    "        reviews.append(para.get_text())\n",
    "    print(\"----->\",\" \",len(reviews),\" \",\"total reviews\")\n",
    "    "
   ]
  },
  {
   "cell_type": "code",
   "execution_count": 16,
   "id": "74dff82d",
   "metadata": {},
   "outputs": [
    {
     "data": {
      "text/html": [
       "<div>\n",
       "<style scoped>\n",
       "    .dataframe tbody tr th:only-of-type {\n",
       "        vertical-align: middle;\n",
       "    }\n",
       "\n",
       "    .dataframe tbody tr th {\n",
       "        vertical-align: top;\n",
       "    }\n",
       "\n",
       "    .dataframe thead th {\n",
       "        text-align: right;\n",
       "    }\n",
       "</style>\n",
       "<table border=\"1\" class=\"dataframe\">\n",
       "  <thead>\n",
       "    <tr style=\"text-align: right;\">\n",
       "      <th></th>\n",
       "      <th>reviews</th>\n",
       "    </tr>\n",
       "  </thead>\n",
       "  <tbody>\n",
       "    <tr>\n",
       "      <th>0</th>\n",
       "      <td>✅ Trip Verified |  A serious medical problem a...</td>\n",
       "    </tr>\n",
       "    <tr>\n",
       "      <th>1</th>\n",
       "      <td>✅ Trip Verified |  I haven't flown British Air...</td>\n",
       "    </tr>\n",
       "    <tr>\n",
       "      <th>2</th>\n",
       "      <td>Not Verified |  My itinerary was supposed to b...</td>\n",
       "    </tr>\n",
       "    <tr>\n",
       "      <th>3</th>\n",
       "      <td>✅ Trip Verified |  Busy day at LHR and flight ...</td>\n",
       "    </tr>\n",
       "    <tr>\n",
       "      <th>4</th>\n",
       "      <td>✅ Trip Verified | Worst seats I have ever enco...</td>\n",
       "    </tr>\n",
       "  </tbody>\n",
       "</table>\n",
       "</div>"
      ],
      "text/plain": [
       "                                             reviews\n",
       "0  ✅ Trip Verified |  A serious medical problem a...\n",
       "1  ✅ Trip Verified |  I haven't flown British Air...\n",
       "2  Not Verified |  My itinerary was supposed to b...\n",
       "3  ✅ Trip Verified |  Busy day at LHR and flight ...\n",
       "4  ✅ Trip Verified | Worst seats I have ever enco..."
      ]
     },
     "execution_count": 16,
     "metadata": {},
     "output_type": "execute_result"
    }
   ],
   "source": [
    "df=pd.DataFrame()\n",
    "df[\"reviews\"]=reviews\n",
    "df.head()"
   ]
  },
  {
   "cell_type": "code",
   "execution_count": 18,
   "id": "398383f7",
   "metadata": {},
   "outputs": [
    {
     "name": "stderr",
     "output_type": "stream",
     "text": [
      "C:\\Users\\elcot\\AppData\\Local\\Temp\\ipykernel_2884\\713915804.py:1: FutureWarning: The default value of regex will change from True to False in a future version.\n",
      "  df[\"text\"]=df[\"reviews\"].str.replace(r'[^\\w\\s]','')\n"
     ]
    }
   ],
   "source": [
    "df[\"text\"]=df[\"reviews\"].str.replace(r'[^\\w\\s]','')"
   ]
  },
  {
   "cell_type": "code",
   "execution_count": 20,
   "id": "3a0f487c",
   "metadata": {},
   "outputs": [
    {
     "data": {
      "text/html": [
       "<div>\n",
       "<style scoped>\n",
       "    .dataframe tbody tr th:only-of-type {\n",
       "        vertical-align: middle;\n",
       "    }\n",
       "\n",
       "    .dataframe tbody tr th {\n",
       "        vertical-align: top;\n",
       "    }\n",
       "\n",
       "    .dataframe thead th {\n",
       "        text-align: right;\n",
       "    }\n",
       "</style>\n",
       "<table border=\"1\" class=\"dataframe\">\n",
       "  <thead>\n",
       "    <tr style=\"text-align: right;\">\n",
       "      <th></th>\n",
       "      <th>reviews</th>\n",
       "      <th>text</th>\n",
       "    </tr>\n",
       "  </thead>\n",
       "  <tbody>\n",
       "    <tr>\n",
       "      <th>0</th>\n",
       "      <td>✅ Trip Verified |  A serious medical problem a...</td>\n",
       "      <td>Trip Verified   A serious medical problem app...</td>\n",
       "    </tr>\n",
       "    <tr>\n",
       "      <th>1</th>\n",
       "      <td>✅ Trip Verified |  I haven't flown British Air...</td>\n",
       "      <td>Trip Verified   I havent flown British Airway...</td>\n",
       "    </tr>\n",
       "    <tr>\n",
       "      <th>2</th>\n",
       "      <td>Not Verified |  My itinerary was supposed to b...</td>\n",
       "      <td>Not Verified   My itinerary was supposed to be...</td>\n",
       "    </tr>\n",
       "    <tr>\n",
       "      <th>3</th>\n",
       "      <td>✅ Trip Verified |  Busy day at LHR and flight ...</td>\n",
       "      <td>Trip Verified   Busy day at LHR and flight fu...</td>\n",
       "    </tr>\n",
       "    <tr>\n",
       "      <th>4</th>\n",
       "      <td>✅ Trip Verified | Worst seats I have ever enco...</td>\n",
       "      <td>Trip Verified  Worst seats I have ever encoun...</td>\n",
       "    </tr>\n",
       "  </tbody>\n",
       "</table>\n",
       "</div>"
      ],
      "text/plain": [
       "                                             reviews  \\\n",
       "0  ✅ Trip Verified |  A serious medical problem a...   \n",
       "1  ✅ Trip Verified |  I haven't flown British Air...   \n",
       "2  Not Verified |  My itinerary was supposed to b...   \n",
       "3  ✅ Trip Verified |  Busy day at LHR and flight ...   \n",
       "4  ✅ Trip Verified | Worst seats I have ever enco...   \n",
       "\n",
       "                                                text  \n",
       "0   Trip Verified   A serious medical problem app...  \n",
       "1   Trip Verified   I havent flown British Airway...  \n",
       "2  Not Verified   My itinerary was supposed to be...  \n",
       "3   Trip Verified   Busy day at LHR and flight fu...  \n",
       "4   Trip Verified  Worst seats I have ever encoun...  "
      ]
     },
     "execution_count": 20,
     "metadata": {},
     "output_type": "execute_result"
    }
   ],
   "source": [
    "df.head()"
   ]
  },
  {
   "cell_type": "code",
   "execution_count": 21,
   "id": "cdccd13b",
   "metadata": {},
   "outputs": [
    {
     "name": "stderr",
     "output_type": "stream",
     "text": [
      "C:\\Users\\elcot\\AppData\\Local\\Temp\\ipykernel_2884\\3609573535.py:1: FutureWarning: The default value of regex will change from True to False in a future version.\n",
      "  df[\"text\"]=df[\"text\"].str.replace(r'\\bTrip Verified\\b|\\bNot Verified\\b','')\n"
     ]
    }
   ],
   "source": [
    "df[\"text\"]=df[\"text\"].str.replace(r'\\bTrip Verified\\b|\\bNot Verified\\b','')"
   ]
  },
  {
   "cell_type": "code",
   "execution_count": 22,
   "id": "e4f0a844",
   "metadata": {},
   "outputs": [
    {
     "data": {
      "text/html": [
       "<div>\n",
       "<style scoped>\n",
       "    .dataframe tbody tr th:only-of-type {\n",
       "        vertical-align: middle;\n",
       "    }\n",
       "\n",
       "    .dataframe tbody tr th {\n",
       "        vertical-align: top;\n",
       "    }\n",
       "\n",
       "    .dataframe thead th {\n",
       "        text-align: right;\n",
       "    }\n",
       "</style>\n",
       "<table border=\"1\" class=\"dataframe\">\n",
       "  <thead>\n",
       "    <tr style=\"text-align: right;\">\n",
       "      <th></th>\n",
       "      <th>reviews</th>\n",
       "      <th>text</th>\n",
       "    </tr>\n",
       "  </thead>\n",
       "  <tbody>\n",
       "    <tr>\n",
       "      <th>0</th>\n",
       "      <td>✅ Trip Verified |  A serious medical problem a...</td>\n",
       "      <td>A serious medical problem appeared while I...</td>\n",
       "    </tr>\n",
       "    <tr>\n",
       "      <th>1</th>\n",
       "      <td>✅ Trip Verified |  I haven't flown British Air...</td>\n",
       "      <td>I havent flown British Airways before and ...</td>\n",
       "    </tr>\n",
       "    <tr>\n",
       "      <th>2</th>\n",
       "      <td>Not Verified |  My itinerary was supposed to b...</td>\n",
       "      <td>My itinerary was supposed to be Las VegasCh...</td>\n",
       "    </tr>\n",
       "    <tr>\n",
       "      <th>3</th>\n",
       "      <td>✅ Trip Verified |  Busy day at LHR and flight ...</td>\n",
       "      <td>Busy day at LHR and flight full Lounge cro...</td>\n",
       "    </tr>\n",
       "    <tr>\n",
       "      <th>4</th>\n",
       "      <td>✅ Trip Verified | Worst seats I have ever enco...</td>\n",
       "      <td>Worst seats I have ever encountered in econ...</td>\n",
       "    </tr>\n",
       "  </tbody>\n",
       "</table>\n",
       "</div>"
      ],
      "text/plain": [
       "                                             reviews  \\\n",
       "0  ✅ Trip Verified |  A serious medical problem a...   \n",
       "1  ✅ Trip Verified |  I haven't flown British Air...   \n",
       "2  Not Verified |  My itinerary was supposed to b...   \n",
       "3  ✅ Trip Verified |  Busy day at LHR and flight ...   \n",
       "4  ✅ Trip Verified | Worst seats I have ever enco...   \n",
       "\n",
       "                                                text  \n",
       "0      A serious medical problem appeared while I...  \n",
       "1      I havent flown British Airways before and ...  \n",
       "2     My itinerary was supposed to be Las VegasCh...  \n",
       "3      Busy day at LHR and flight full Lounge cro...  \n",
       "4     Worst seats I have ever encountered in econ...  "
      ]
     },
     "execution_count": 22,
     "metadata": {},
     "output_type": "execute_result"
    }
   ],
   "source": [
    "df.head()"
   ]
  },
  {
   "cell_type": "code",
   "execution_count": 23,
   "id": "d6eadf2e",
   "metadata": {},
   "outputs": [
    {
     "data": {
      "text/plain": [
       "'    A serious medical problem appeared while I was onboard I informed the crew and they helped me out Unfortunately I was in transit but travelling further became too difficult because of how unwell I became Also I could not find my way back home in my condition Thankfully the crew has helped me in every step of the journey until I returned back home It was a stressful experience but the crew of British Airways made it way more tolerable'"
      ]
     },
     "execution_count": 23,
     "metadata": {},
     "output_type": "execute_result"
    }
   ],
   "source": [
    "df[\"text\"][0]"
   ]
  },
  {
   "cell_type": "code",
   "execution_count": 24,
   "id": "4ed6b66f",
   "metadata": {},
   "outputs": [
    {
     "data": {
      "text/plain": [
       "'✅ Trip Verified |  A serious medical problem appeared while I was onboard. I informed the crew and they helped me out. Unfortunately I was in transit but travelling further became too difficult because of how unwell I became. Also I could not find my way back home in my condition. Thankfully the crew has helped me in every step of the journey until I returned back home. It was a stressful experience but the crew of British Airways made it way more tolerable.'"
      ]
     },
     "execution_count": 24,
     "metadata": {},
     "output_type": "execute_result"
    }
   ],
   "source": [
    "df[\"reviews\"][0]"
   ]
  },
  {
   "cell_type": "markdown",
   "id": "d24ae76d",
   "metadata": {},
   "source": [
    "## sentiment analysis"
   ]
  },
  {
   "cell_type": "code",
   "execution_count": 25,
   "id": "6dc4f5fd",
   "metadata": {},
   "outputs": [
    {
     "name": "stderr",
     "output_type": "stream",
     "text": [
      "[nltk_data] Downloading package wordnet to\n",
      "[nltk_data]     C:\\Users\\elcot\\AppData\\Roaming\\nltk_data...\n"
     ]
    },
    {
     "data": {
      "text/plain": [
       "True"
      ]
     },
     "execution_count": 25,
     "metadata": {},
     "output_type": "execute_result"
    }
   ],
   "source": [
    "import nltk\n",
    "nltk.download('wordnet')"
   ]
  },
  {
   "cell_type": "code",
   "execution_count": 29,
   "id": "5b25bdde",
   "metadata": {},
   "outputs": [],
   "source": [
    "#polarity of each review\n",
    "from textblob import TextBlob\n",
    "\n",
    "#make sure about correct data type\n",
    "df[\"text\"]=df[\"text\"].astype(str)\n",
    "\n",
    "pol=lambda x:TextBlob(x).sentiment.polarity\n",
    "df[\"polarity\"]=df[\"text\"].apply(pol)"
   ]
  },
  {
   "cell_type": "code",
   "execution_count": 32,
   "id": "10d622ae",
   "metadata": {},
   "outputs": [
    {
     "data": {
      "image/png": "[encoded data removed]",
      "text/plain": [
       "<Figure size 1000x500 with 1 Axes>"
      ]
     },
     "metadata": {},
     "output_type": "display_data"
    }
   ],
   "source": [
    "import matplotlib.pyplot as plt\n",
    "import seaborn as sns\n",
    "\n",
    "\n",
    "plt.figure(figsize=(10,5))\n",
    "n,bins,patches=plt.hist(df.polarity,50,facecolor=\"blue\",alpha=0.5)\n",
    "plt.xlabel('polarity')\n",
    "plt.ylabel('No of reviews')\n",
    "plt.title(\"Histogram of Polarity Score\")\n",
    "plt.show()"
   ]
  },
  {
   "cell_type": "markdown",
   "id": "81153241",
   "metadata": {},
   "source": [
    "based on polarity score where **1** means **positive statement** and **-1** means a **negative statement**. positive reviews more than negative review.not much different between positive and negative reviews.more over there are mixed reviews or **netural reviews.**"
   ]
  },
  {
   "cell_type": "code",
   "execution_count": 40,
   "id": "d48033e4",
   "metadata": {},
   "outputs": [
    {
     "data": {
      "text/plain": [
       "Text(0.5, 1.0, 'Distribution of subjectivity score')"
      ]
     },
     "execution_count": 40,
     "metadata": {},
     "output_type": "execute_result"
    },
    {
     "data": {
      "image/png": "[encoded data removed]",
      "text/plain": [
       "<Figure size 1000x500 with 1 Axes>"
      ]
     },
     "metadata": {},
     "output_type": "display_data"
    }
   ],
   "source": [
    "#creating subjectivity scores\n",
    "df[\"subjectivity\"]=df[\"text\"].apply(lambda x:TextBlob(x).sentiment.subjectivity)\n",
    "\n",
    "import warnings\n",
    "warnings.filterwarnings(\"ignore\")\n",
    "\n",
    "#density plot and histogram of subjectivity score for reviews\n",
    "plt.figure(figsize=(10,5))\n",
    "sns.distplot(df[\"subjectivity\"],hist=True,kde=True,bins=int(30),\n",
    "             color=\"darkblue\",hist_kws={'edgecolor':'black'},kde_kws={'linewidth':3})\n",
    "plt.xlabel('Subjectivity')\n",
    "plt.ylabel('Frequency')\n",
    "plt.title('Distribution of subjectivity score')"
   ]
  },
  {
   "cell_type": "markdown",
   "id": "3c020a7f",
   "metadata": {},
   "source": [
    "In sentiment analysis, subjectivity is also a float that lies in the **range of [0,1]**. When it is close to **0**, it is more about **facts**. When subjectivity increases, it comes close to be an **opinion**. this plot looks like **symmentric curve**. in this reviews both **facts and opinon** are equally distributed."
   ]
  },
  {
   "cell_type": "code",
   "execution_count": null,
   "id": "a9c37735",
   "metadata": {},
   "outputs": [],
   "source": []
  }
 ],
 "metadata": {
  "kernelspec": {
   "display_name": "Python 3 (ipykernel)",
   "language": "python",
   "name": "python3"
  },
  "language_info": {
   "codemirror_mode": {
    "name": "ipython",
    "version": 3
   },
   "file_extension": ".py",
   "mimetype": "text/x-python",
   "name": "python",
   "nbconvert_exporter": "python",
   "pygments_lexer": "ipython3",
   "version": "3.10.9"
  }
 },
 "nbformat": 4,
 "nbformat_minor": 5
}
